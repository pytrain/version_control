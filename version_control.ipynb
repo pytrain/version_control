{
 "cells": [
  {
   "cell_type": "markdown",
   "metadata": {},
   "source": [
    "![NASA](http://www.nasa.gov/sites/all/themes/custom/nasatwo/images/nasa-logo.svg)\n",
    "\n",
    "<center><h1><font size=\"+3\">GSFC Python Bootcamp</font></h1>"
   ]
  },
  {
   "cell_type": "markdown",
   "metadata": {},
   "source": [
    "# Overview\n",
    "\n",
    "---\n",
    "\n",
    "* [What is version control (and why do we care)?](#What-is-version-control?)\n",
    "* [Centralized](#Centralized-version-control-systems) vs [distributed](#Distributed-version-control-systems) version control\n",
    "* Git\n",
    "  * Basic concepts\n",
    "  * Usage\n",
    "  * GitHub\n",
    "  * Lots of exercises"
   ]
  },
  {
   "cell_type": "markdown",
   "metadata": {},
   "source": [
    "## What is version control?\n",
    "\n",
    "---\n",
    "\n",
    "Many of us constantly create something, save it, change it, then save it again.\n",
    "\n",
    "![phd](http://github.com/pytrain/version_control/blob/master/imgs/phd052810s.png?raw=true)"
   ]
  },
  {
   "cell_type": "markdown",
   "metadata": {},
   "source": [
    "Version control is a means of managing this process in a reliable and efficient way\n",
    "\n"
   ]
  },
  {
   "cell_type": "markdown",
   "metadata": {},
   "source": [
    "![local](http://github.com/pytrain/version_control/blob/master/imgs/local.png?raw=true)\n",
    "\n",
    "__Version control:__ A component of software configuration management, version control, also known as revision control or source control, is the management of changes to documents, computer programs, large web sites, and other collections of information."
   ]
  },
  {
   "cell_type": "markdown",
   "metadata": {},
   "source": [
    "Especially important when collaborating with others."
   ]
  },
  {
   "cell_type": "markdown",
   "metadata": {},
   "source": [
    "## Why do we care?\n",
    "\n",
    "### __Version control is an essential component in software development.__\n",
    "\n",
    "* Has been used by software developers for decades\n",
    "* Source code lives in one or more repositories (repos) available to team members/contributors.\n",
    "* Establishes a common context for code contributions and the exchange of ideas.\n",
    "* Establishes a chronological sequence of events\n",
    "* Serves as a \"ground truth\" for a software project\n",
    "* Results from uncontrolled code are not _reproducible_."
   ]
  },
  {
   "cell_type": "markdown",
   "metadata": {},
   "source": [
    "### Advantages of using version control\n",
    "\n",
    "* A repository is your friend:\n",
    "  * A repo can tell you exactly what version you are looking at (with a unique identifier).\n",
    "  * Everyone can agree on whether they are looking at the same thing.\n",
    "  * If there are conflicts, your version control system will tell you, and _you will need to resolve them_."
   ]
  },
  {
   "cell_type": "markdown",
   "metadata": {},
   "source": [
    "## Centralized version control systems\n",
    "\n",
    "---\n",
    "\n",
    "There is one repository containing the master version (the \"trunk\") of the source code.\n",
    "\n",
    "![cvs](http://github.com/pytrain/version_control/blob/master/imgs/centralized.png?raw=true)"
   ]
  },
  {
   "cell_type": "markdown",
   "metadata": {},
   "source": [
    "## Distributed version control systems\n",
    "\n",
    "---\n",
    "\n",
    "### Example: Git, Mercurial\n",
    "\n",
    "* Everyone has a copy of the entire repo and its history(!)\n",
    "* People typically work in development _branches_, with their changes isolated from others until merges are performed.\n",
    "* Greater flexibility for design development procedures.\n",
    "* Greater complexity (more concepts, fewer set rules)..."
   ]
  },
  {
   "cell_type": "markdown",
   "metadata": {},
   "source": [
    "![distributed](http://git-scm.com/book/en/v2/images/distributed.png)\n",
    "\n",
    "[https://git-scm.com/book/en/v2/images/distributed.png](http://git-scm.com/book/en/v2/images/distributed.png)"
   ]
  },
  {
   "cell_type": "markdown",
   "metadata": {},
   "source": [
    "# Git Tutorial"
   ]
  },
  {
   "cell_type": "code",
   "execution_count": null,
   "metadata": {},
   "outputs": [],
   "source": []
  }
 ],
 "metadata": {
  "kernelspec": {
   "display_name": "Python 3",
   "language": "python",
   "name": "python3"
  },
  "language_info": {
   "codemirror_mode": {
    "name": "ipython",
    "version": 3
   },
   "file_extension": ".py",
   "mimetype": "text/x-python",
   "name": "python",
   "nbconvert_exporter": "python",
   "pygments_lexer": "ipython3",
   "version": "3.7.3"
  }
 },
 "nbformat": 4,
 "nbformat_minor": 2
}
